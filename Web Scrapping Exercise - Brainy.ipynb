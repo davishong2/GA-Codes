{
 "cells": [
  {
   "cell_type": "code",
   "execution_count": 81,
   "metadata": {},
   "outputs": [
    {
     "name": "stdout",
     "output_type": "stream",
     "text": [
      "Results saved in '~\\.authorslistC.txt'\n"
     ]
    }
   ],
   "source": [
    "from bs4 import BeautifulSoup\n",
    "from requests import get\n",
    "from time import sleep\n",
    "from random import randint\n",
    "\n",
    "def scrapedata(url, noofpages = 1):\n",
    "    if noofpages == 1: # scrape 1 page only. Any other number, scrape authors from a - z.\n",
    "        response = get(url)\n",
    "        html_soup = BeautifulSoup(response.text, 'html.parser')\n",
    "# write data to file. Syntax is for Mac OS;\n",
    "        with open('~\\.authorslist.txt','w') as output:\n",
    "            \n",
    "# authors_container = html.soup.find_all('div', class_ = 'row bq_left')\n",
    "            for span in html_soup.find('div', class_='row bq_left').findAll('span'):\n",
    "                output.write(span.text + '\\n')\n",
    "        output.close()\n",
    "        print (\"Results saved in '~\\.authorslist.txt'\")\n",
    "\n",
    "    else: # scrape multiple pages\n",
    "        for i in range(97, 123): # iterating alphabet a - z using ascii codes\n",
    "            if i > 98: # Break out of the loop to skip authors starting with letter c to save time.\n",
    "                break\n",
    "            for j in range(1,21): # iterating 20 sub pages of an alphabet\n",
    "                url_ = ''\n",
    "                if j == 1:\n",
    "                    url_ = url + '/' + chr(i)\n",
    "                else:\n",
    "                    url_ = url + '/' + chr(i) + str(j)\n",
    "                try:\n",
    "                    response = get (url_)\n",
    "                    html_soup = BeautifulSoup(response.text, 'html.parser')\n",
    "# write data to file. Syntax is for Mac OS;\n",
    "                    with open('~\\.authorslist' + chr(i).upper() + '.txt','w+') as output:\n",
    "            \n",
    "# authors_container = html.soup.find_all('div', class_ = 'row bq_left')\n",
    "                        for span in html_soup.find('table', class_='table table-hover table-bordered').findAll('a'):\n",
    "                            output.write(span.text + '\\n')\n",
    "                    output.close()\n",
    "                    sleep(randint(1,4)) # randomly rest between 1 - 3 seconds\n",
    "                except:\n",
    "                    break\n",
    "            print (\"Results saved in '~\\.authorslist\" + chr(i).upper() + \".txt'\")\n",
    "\n",
    "\n",
    "# Change the 2nd parameter to > 1 when calling scrapedata function to scrape multiple pages.\n",
    "# ------------------------------------------------------\n",
    "### scrapedata('https://www.brainyquote.com/authors', 1)\n",
    "# ------------------------------------------------------\n",
    "\n",
    "# For eg, use the below to scrape all authors from a - z.\n",
    "# ------------------------------------------------------\n",
    "scrapedata('https://www.brainyquote.com/authors', 2)\n",
    "# ------------------------------------------------------\n"
   ]
  },
  {
   "cell_type": "code",
   "execution_count": null,
   "metadata": {},
   "outputs": [],
   "source": []
  },
  {
   "cell_type": "code",
   "execution_count": 26,
   "metadata": {},
   "outputs": [
    {
     "name": "stdout",
     "output_type": "stream",
     "text": [
      "https://www.brainyquote.com/authors/a\n",
      "https://www.brainyquote.com/authors/a2\n",
      "https://www.brainyquote.com/authors/a3\n",
      "https://www.brainyquote.com/authors/a4\n",
      "https://www.brainyquote.com/authors/a5\n",
      "https://www.brainyquote.com/authors/a6\n",
      "https://www.brainyquote.com/authors/a7\n",
      "https://www.brainyquote.com/authors/a8\n",
      "https://www.brainyquote.com/authors/a9\n",
      "https://www.brainyquote.com/authors/a10\n",
      "https://www.brainyquote.com/authors/a11\n",
      "https://www.brainyquote.com/authors/a12\n",
      "https://www.brainyquote.com/authors/a13\n",
      "https://www.brainyquote.com/authors/a14\n",
      "https://www.brainyquote.com/authors/a15\n",
      "https://www.brainyquote.com/authors/a16\n",
      "https://www.brainyquote.com/authors/a17\n",
      "https://www.brainyquote.com/authors/a18\n",
      "https://www.brainyquote.com/authors/a19\n",
      "https://www.brainyquote.com/authors/a20\n",
      "https://www.brainyquote.com/authors/b\n",
      "https://www.brainyquote.com/authors/b2\n",
      "https://www.brainyquote.com/authors/b3\n",
      "https://www.brainyquote.com/authors/b4\n",
      "https://www.brainyquote.com/authors/b5\n",
      "https://www.brainyquote.com/authors/b6\n",
      "https://www.brainyquote.com/authors/b7\n",
      "https://www.brainyquote.com/authors/b8\n",
      "https://www.brainyquote.com/authors/b9\n",
      "https://www.brainyquote.com/authors/b10\n",
      "https://www.brainyquote.com/authors/b11\n",
      "https://www.brainyquote.com/authors/b12\n",
      "https://www.brainyquote.com/authors/b13\n",
      "https://www.brainyquote.com/authors/b14\n",
      "https://www.brainyquote.com/authors/b15\n",
      "https://www.brainyquote.com/authors/b16\n",
      "https://www.brainyquote.com/authors/b17\n",
      "https://www.brainyquote.com/authors/b18\n",
      "https://www.brainyquote.com/authors/b19\n",
      "https://www.brainyquote.com/authors/b20\n"
     ]
    }
   ],
   "source": [
    "# Testing...\n",
    "url = 'https://www.brainyquote.com/authors'\n",
    "for i in range(97, 123): # iterating alphabet a - z using ascii codes\n",
    "    if i > 98: # Break out of the loop to skip authors starting with letter c to save time.\n",
    "        break\n",
    "    for j in range(1,21): # iterating 20 sub pages of an alphabet\n",
    "        url_ = ''\n",
    "        if j == 1:\n",
    "            url_ = url + '/' + chr(i)\n",
    "        else:\n",
    "            url_ = url + '/' + chr(i) + str(j)\n",
    "        print(url_)"
   ]
  },
  {
   "cell_type": "code",
   "execution_count": null,
   "metadata": {},
   "outputs": [],
   "source": []
  }
 ],
 "metadata": {
  "kernelspec": {
   "display_name": "Python 3",
   "language": "python",
   "name": "python3"
  },
  "language_info": {
   "codemirror_mode": {
    "name": "ipython",
    "version": 3
   },
   "file_extension": ".py",
   "mimetype": "text/x-python",
   "name": "python",
   "nbconvert_exporter": "python",
   "pygments_lexer": "ipython3",
   "version": "3.7.1"
  }
 },
 "nbformat": 4,
 "nbformat_minor": 2
}
